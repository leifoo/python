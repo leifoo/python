{
 "cells": [
  {
   "cell_type": "markdown",
   "metadata": {},
   "source": [
    "# NumPy\n",
    "\n",
    "https://www.w3schools.com/python/numpy/default.asp\n",
    "\n",
    "## NumPy Tutorial\n",
    "\n",
    "### Intro\n",
    "\n",
    "What is NumPy?\n",
    "- NumPy is a Python library used for working with arrays.\n",
    "- It also has functions for working in domain of linear algebra, fourier transform, and matrices.\n",
    "- NumPy was created in 2005 by Travis Oliphant. It is an open source project and you can use it freely.\n",
    "- NumPy stands for Numerical Python.\n",
    "\n",
    "Why Use NumPy?\n",
    "- In Python we have lists that serve the purpose of arrays, but they are slow to process.\n",
    "- NumPy aims to provide an array object that is up to 50x faster than traditional Python lists.\n",
    "- The array object in NumPy is called `ndarray`, it provides a lot of supporting functions that make working with `ndarray` very easy.\n",
    "- Arrays are very frequently used in data science, where speed and resources are very important.\n",
    "\n",
    "> Data Science: is a branch of computer science where we study how to store, use and analyze data for deriving information from it.\n",
    "\n",
    "Why is NumPy Faster Than Lists?\n",
    "- NumPy arrays are stored at one continuous place in memory unlike lists, so processes can access and manipulate them very efficiently. This behavior is called __locality of reference__ in computer science. This is the main reason why NumPy is faster than lists. \n",
    "- Also it is optimized to work with latest CPU architectures.\n",
    "\n",
    "Which Language is NumPy written in?\n",
    "NumPy is a Python library and is written partially in Python, but most of the parts that require fast computation are written in C or C++.\n",
    "\n",
    "### Getting Started\n",
    "\n",
    "Import NumPy"
   ]
  },
  {
   "cell_type": "code",
   "execution_count": 11,
   "metadata": {},
   "outputs": [
    {
     "name": "stdout",
     "output_type": "stream",
     "text": [
      "[1 2 3 4 5]\n"
     ]
    }
   ],
   "source": [
    "import numpy as np\n",
    "\n",
    "arr = np.array([1, 2, 3, 4, 5])\n",
    "\n",
    "print(arr)"
   ]
  },
  {
   "cell_type": "code",
   "execution_count": 12,
   "metadata": {},
   "outputs": [
    {
     "data": {
      "text/plain": [
       "'1.23.2'"
      ]
     },
     "execution_count": 12,
     "metadata": {},
     "output_type": "execute_result"
    }
   ],
   "source": [
    "# Checking NumPy version\n",
    "np.__version__"
   ]
  },
  {
   "cell_type": "markdown",
   "metadata": {},
   "source": [
    "### Creating Arrays\n",
    "\n",
    "NumPy is used to work with arrays. The array object in NumPy is called `ndarray`.\n",
    "\n",
    "To create an `ndarray`, we can pass a list, tuple or any array-like object into the `array()` method, and it will be converted into an `ndarray`:\n",
    "\n",
    "Dimensions in Arrays\n",
    "- A dimension in arrays is one level of array depth (nested arrays).\n",
    "- __nested array__ are arrays that have arrays as their elements.\n",
    "\n",
    "0-D Arrays\n",
    "- 0-D arrays, or Scalars, are the elements in an array. Each value in an array is a 0-D array."
   ]
  },
  {
   "cell_type": "code",
   "execution_count": 13,
   "metadata": {},
   "outputs": [
    {
     "name": "stdout",
     "output_type": "stream",
     "text": [
      "42\n"
     ]
    }
   ],
   "source": [
    "arr = np.array(42)\n",
    "\n",
    "print(arr)"
   ]
  },
  {
   "cell_type": "markdown",
   "metadata": {},
   "source": [
    "1-D Arrays\n",
    "- An array that has 0-D arrays as its elements is called uni-dimensional or 1-D array.\n",
    "- These are the most common and basic arrays.\n",
    "\n",
    "2-D Arrays\n",
    "- An array that has 1-D arrays as its elements is called a 2-D array.\n",
    "- These are often used to represent matrix or 2nd order tensors.\n",
    "- NumPy has a whole sub module dedicated towards matrix operations called `numpy.mat`\n",
    "\n",
    "3-D arrays\n",
    "- An array that has 2-D arrays (matrices) as its elements is called 3-D array.\n",
    "- These are often used to represent a 3rd order tensor.\n",
    "\n",
    "Higher Dimensional Arrays\n",
    "- An array can have any number of dimensions.\n",
    "- When the array is created, you can define the number of dimensions by using the `ndmin` argument."
   ]
  },
  {
   "cell_type": "code",
   "execution_count": 14,
   "metadata": {},
   "outputs": [
    {
     "name": "stdout",
     "output_type": "stream",
     "text": [
      "0\n",
      "1\n",
      "2\n",
      "3\n",
      "number of dimensions: 5\n"
     ]
    }
   ],
   "source": [
    "arr_1d = np.array([1, 2, 3, 4, 5])\n",
    "arr_2d = np.array([[1, 2, 3], [4, 5, 6]])\n",
    "arr_3d = np.array([[[1, 2, 3], [4, 5, 6]], [[1, 2, 3], [4, 5, 6]]])\n",
    "\n",
    "print(arr.ndim)\n",
    "print(arr_1d.ndim)\n",
    "print(arr_2d.ndim)\n",
    "print(arr_3d.ndim)\n",
    "\n",
    "arr_5d = np.array([1, 2, 3, 4], ndmin=5)\n",
    "print(f'number of dimensions: {arr_5d.ndim}')"
   ]
  },
  {
   "cell_type": "markdown",
   "metadata": {},
   "source": [
    "### Indexing\n",
    "\n",
    "Access an array element by referring to its index number.\n",
    "\n",
    "Access 2-D Arrays\n",
    "- use comma separated integers representing the dimension and the index of the element `arr_2d[0, 1]`."
   ]
  },
  {
   "cell_type": "code",
   "execution_count": 15,
   "metadata": {},
   "outputs": [
    {
     "name": "stdout",
     "output_type": "stream",
     "text": [
      "2nd element on 1st row of arr_2d: 2\n",
      "3rd element of 2nd array of 1st array of arr_3d: 6\n"
     ]
    }
   ],
   "source": [
    "print(f'2nd element on 1st row of arr_2d: {arr_2d[0, 1]}')\n",
    "print(f'3rd element of 2nd array of 1st array of arr_3d: {arr_3d[0, 1, 2]}')"
   ]
  },
  {
   "cell_type": "markdown",
   "metadata": {},
   "source": [
    "Negative Indexing\n",
    "- access an array from the end."
   ]
  },
  {
   "cell_type": "code",
   "execution_count": 16,
   "metadata": {},
   "outputs": [
    {
     "name": "stdout",
     "output_type": "stream",
     "text": [
      "Last element from 2nd dim of arr_2d:  6\n"
     ]
    }
   ],
   "source": [
    "print('Last element from 2nd dim of arr_2d: ', arr_2d[1, -1])"
   ]
  },
  {
   "cell_type": "markdown",
   "metadata": {},
   "source": [
    "### Slicing\n",
    "\n",
    "Slicing arrays\n",
    "- taking elements from one given index to another given index with given step .\n",
    "- `[start:end] or [start:end:step]`\n",
    "- includes the start index, but excludes the end index\n",
    "- default values: `start=0, end=len(arr), step=1`\n",
    "\n",
    "Negative Slicing\n",
    "- Use the minus operator to refer to an index from the end\n",
    "\n",
    "STEP\n",
    "- Use the `step` value to determine the step of the slicing"
   ]
  },
  {
   "cell_type": "code",
   "execution_count": 17,
   "metadata": {},
   "outputs": [
    {
     "name": "stdout",
     "output_type": "stream",
     "text": [
      "Slice elements from index 4 to the end of the array: [5]\n",
      "Slice elements from the beginning to index 4 (not included): [1 2 3 4]\n",
      "Slice from the index 3 from the end to index 1 from the end: [3 4]\n",
      "Return every other element from index 1 to index 5: [2 4]\n",
      "From the second element, slice elements from index 1 to index 3 (not included): [5 6]\n"
     ]
    }
   ],
   "source": [
    "print(f'Slice elements from index 4 to the end of the array: {arr_1d[4:]}')\n",
    "print(f'Slice elements from the beginning to index 4 (not included): {arr_1d[:4]}')\n",
    "print(f'Slice from the index 3 from the end to index 1 from the end: {arr_1d[-3:-1]}')\n",
    "print(f'Return every other element from index 1 to index 5: {arr_1d[1:5:2]}')\n",
    "\n",
    "# Slicing 2-D Arrays\n",
    "print(f'From the second element, slice elements from index 1 to index 3 (not included): {arr_2d[1, 1:3]}')"
   ]
  },
  {
   "cell_type": "markdown",
   "metadata": {},
   "source": [
    "### NumPy Data Types\n",
    "\n",
    "Data Types in Python:\n",
    "- `strings`\n",
    "- `integer`\n",
    "- `float`\n",
    "- `boolean`\n",
    "- `complex` - used to represent complex numbers. e.g. 1.0 + 2.0j, 1.5 + 2.5j\n",
    "\n",
    "Data Types in NumPy\n",
    "- NumPy has some extra data types, \n",
    "- refer to data types with one character, like i for integers, u for unsigned integers etc.\n",
    "\n",
    "Data types in NumPy and the characters used to represent them.\n",
    "- `i` - integer\n",
    "- `b` - boolean\n",
    "- `u` - unsigned integer\n",
    "- `f` - float\n",
    "- `c` - complex float\n",
    "- `m` - timedelta\n",
    "- `M` - datetime\n",
    "- `O` - object\n",
    "- `S` - string\n",
    "- `U` - unicode string\n",
    "- `V` - fixed chunk of memory for other type ( void )\n",
    "\n",
    "Check Data Type\n",
    "- NumPy array object has a property called `dtype` that returns the data type of the array"
   ]
  },
  {
   "cell_type": "code",
   "execution_count": 18,
   "metadata": {},
   "outputs": [
    {
     "name": "stdout",
     "output_type": "stream",
     "text": [
      "int64 int64 int64\n"
     ]
    }
   ],
   "source": [
    "print(arr.dtype, arr_1d.dtype, arr_2d.dtype)"
   ]
  },
  {
   "cell_type": "markdown",
   "metadata": {},
   "source": [
    "Creating Arrays With a Defined Data Type\n",
    "- use `array()` function to create arrays, this function can take an optional argument: `dtype` that allows us to define the expected data type of the array elements:\n",
    "- For `i`, `u`, `f`, `S` and `U` we can define size as well."
   ]
  },
  {
   "cell_type": "code",
   "execution_count": 19,
   "metadata": {},
   "outputs": [
    {
     "name": "stdout",
     "output_type": "stream",
     "text": [
      "[b'1' b'2' b'3' b'4']\n",
      "|S1\n",
      "[1 2 3 4]\n",
      "int32\n"
     ]
    }
   ],
   "source": [
    "# Create an array with data type string:\n",
    "arr_S = np.array([1, 2, 3, 4], dtype='S')\n",
    "\n",
    "print(arr_S)\n",
    "print(arr_S.dtype)\n",
    "\n",
    "# Create an array with data type 4 bytes integer:\n",
    "arr_i4 = np.array([1, 2, 3, 4], dtype='i4')\n",
    "\n",
    "print(arr_i4)\n",
    "print(arr_i4.dtype)"
   ]
  },
  {
   "cell_type": "markdown",
   "metadata": {},
   "source": [
    "If a type is given in which elements can't be casted, NumPy will raise a __ValueError__.\n",
    "\n",
    "```python\n",
    "np.array(['a', '2', '3'], dtype='i')\n",
    "```\n",
    "\n",
    "<p style=\"background:black\">\n",
    "<code style=\"background:black;color:white\">\n",
    "---------------------------------------------------------------------------  \n",
    "ValueError                                Traceback (most recent call last)\n",
    "<br>\n",
    "Input In [10], in <cell line: 1>()\n",
    "<br>\n",
    "----> 1 np.array(['a', '2', '3'], dtype='i')\n",
    "<br>\n",
    "ValueError: invalid literal for int() with base 10: 'a'\n",
    "</code>\n",
    "</p>"
   ]
  },
  {
   "cell_type": "markdown",
   "metadata": {},
   "source": [
    "Converting Data Type on Existing Arrays\n",
    "- The best way to change the data type of an existing array, is to make a copy of the array with the `astype()` method.\n",
    "- The `astype()` function creates a copy of the array, and allows you to specify the data type as a parameter.\n",
    "- The data type can be specified using a string, like 'f' for float, 'i' for integer etc. or you can use the data type directly like `float` for float and `int` for integer.\n",
    "\n",
    "String to represent data type\n",
    "- i = `integer`\n",
    "- b = `boolean`\n",
    "- u = `unsigned integer`\n",
    "- f = `float`\n",
    "- c = `complex float`\n",
    "- m = `timedelta`\n",
    "- M = `datetime`\n",
    "- O = `object`\n",
    "- S = `string`"
   ]
  },
  {
   "cell_type": "code",
   "execution_count": 20,
   "metadata": {},
   "outputs": [
    {
     "name": "stdout",
     "output_type": "stream",
     "text": [
      "[1 2 3]\n",
      "int32\n"
     ]
    }
   ],
   "source": [
    "arr_f = np.array([1.1, 2.1, 3.1])\n",
    "\n",
    "newarr = arr_f.astype(int)\n",
    "newarr = arr_f.astype('i')\n",
    "\n",
    "print(newarr)\n",
    "print(newarr.dtype)"
   ]
  },
  {
   "cell_type": "markdown",
   "metadata": {},
   "source": [
    "### Copy vs View\n",
    "\n",
    "Difference\n",
    "- `copy()`, `view()`\n",
    "- The main difference between a copy and a view of an array is that the copy is a new array, and the view is just a view of the original array.\n",
    "- The copy owns the data and any changes made to the copy will not affect original array, and any changes made to the original array will not affect the copy.\n",
    "- The view does not own the data and any changes made to the view will affect the original array, and any changes made to the original array will affect the view."
   ]
  },
  {
   "cell_type": "code",
   "execution_count": 21,
   "metadata": {},
   "outputs": [
    {
     "name": "stdout",
     "output_type": "stream",
     "text": [
      "[42  2  3  4  5]\n",
      "[1 2 3 4 5]\n"
     ]
    }
   ],
   "source": [
    "arr = np.array([1, 2, 3, 4, 5])\n",
    "x = arr.copy()\n",
    "arr[0] = 42\n",
    "\n",
    "print(arr)\n",
    "print(x)"
   ]
  },
  {
   "cell_type": "code",
   "execution_count": 22,
   "metadata": {},
   "outputs": [
    {
     "name": "stdout",
     "output_type": "stream",
     "text": [
      "[42  2  3  4  5]\n",
      "[42  2  3  4  5]\n"
     ]
    }
   ],
   "source": [
    "arr = np.array([1, 2, 3, 4, 5])\n",
    "x = arr.view()\n",
    "arr[0] = 42\n",
    "\n",
    "print(arr)\n",
    "print(x)"
   ]
  },
  {
   "cell_type": "markdown",
   "metadata": {},
   "source": [
    "Make Changes in the VIEW\n",
    "- The original array SHOULD be <code style=\"background:yellow;color:black\">affected</code> by the changes made to the view."
   ]
  },
  {
   "cell_type": "code",
   "execution_count": 23,
   "metadata": {},
   "outputs": [
    {
     "name": "stdout",
     "output_type": "stream",
     "text": [
      "[42  2  3  4  5]\n",
      "[42  2  3  4  5]\n"
     ]
    }
   ],
   "source": [
    "arr = np.array([1, 2, 3, 4, 5])\n",
    "x = arr.view()\n",
    "arr[0] = 42\n",
    "\n",
    "print(arr)\n",
    "print(x)"
   ]
  },
  {
   "cell_type": "markdown",
   "metadata": {},
   "source": [
    "Check if Array Owns its Data\n",
    "- Every NumPy array has the attribute `base` that returns `None` if the array owns the data.\n",
    "- Otherwise, the base  attribute refers to the original object."
   ]
  },
  {
   "cell_type": "code",
   "execution_count": 24,
   "metadata": {},
   "outputs": [
    {
     "name": "stdout",
     "output_type": "stream",
     "text": [
      "None\n",
      "[1 2 3 4 5]\n"
     ]
    }
   ],
   "source": [
    "arr = np.array([1, 2, 3, 4, 5])\n",
    "\n",
    "x = arr.copy()\n",
    "y = arr.view()\n",
    "\n",
    "print(x.base)\n",
    "print(y.base)"
   ]
  },
  {
   "cell_type": "markdown",
   "metadata": {},
   "source": [
    "### Shape\n",
    "\n",
    "Shape of an Array: the number of elements in each dimension.\n",
    "\n",
    "Get the Shape of an Array\n",
    "- NumPy arrays have an attribute called `shape` that returns a tuple with each index having the number of corresponding elements."
   ]
  },
  {
   "cell_type": "code",
   "execution_count": 25,
   "metadata": {},
   "outputs": [
    {
     "name": "stdout",
     "output_type": "stream",
     "text": [
      "[[[[[1 2 3 4]]]]]\n",
      "shape of array : (1, 1, 1, 1, 4)\n"
     ]
    }
   ],
   "source": [
    "# Create an array with 5 dimensions and verify that last dimension has value 4:\n",
    "arr = np.array([1, 2, 3, 4], ndmin=5)\n",
    "\n",
    "print(arr)\n",
    "print('shape of array :', arr.shape)"
   ]
  },
  {
   "cell_type": "markdown",
   "metadata": {},
   "source": [
    "### Reshape\n",
    "\n",
    "Returns Copy or View?"
   ]
  },
  {
   "cell_type": "code",
   "execution_count": 26,
   "metadata": {},
   "outputs": [
    {
     "name": "stdout",
     "output_type": "stream",
     "text": [
      "[ 1  2  3  4  5  6  7  8  9 10 11 12]\n",
      "[[[ 1  2]\n",
      "  [ 3  4]\n",
      "  [ 5  6]]\n",
      "\n",
      " [[ 7  8]\n",
      "  [ 9 10]\n",
      "  [11 12]]]\n",
      "[ 1  2  3  4  5  6  7  8  9 10 11 12]\n"
     ]
    }
   ],
   "source": [
    "arr = np.array([1, 2, 3, 4, 5, 6, 7, 8, 9, 10, 11, 12])\n",
    "newarr = arr.reshape(2, 3, 2)\n",
    "\n",
    "print(arr)\n",
    "print(newarr)\n",
    "print(newarr.base)"
   ]
  },
  {
   "cell_type": "markdown",
   "metadata": {},
   "source": [
    "Unknown Dimension\n",
    "- You are allowed to have one \"unknown\" dimension.\n",
    "- Pass -1 as the value, and NumPy will calculate this number for you.\n",
    "\n",
    "<div class=\"alert alert-block alert-info\"><b>Notes:</b> We can not pass -1 to more than one dimension.</div>"
   ]
  },
  {
   "cell_type": "code",
   "execution_count": 27,
   "metadata": {},
   "outputs": [
    {
     "name": "stdout",
     "output_type": "stream",
     "text": [
      "[[[1 2]\n",
      "  [3 4]]\n",
      "\n",
      " [[5 6]\n",
      "  [7 8]]]\n"
     ]
    }
   ],
   "source": [
    "arr = np.array([1, 2, 3, 4, 5, 6, 7, 8])\n",
    "\n",
    "newarr = arr.reshape(2, 2, -1)\n",
    "\n",
    "print(newarr)"
   ]
  },
  {
   "cell_type": "markdown",
   "metadata": {},
   "source": [
    "Flattening the arrays\n",
    "- reshape(-1)"
   ]
  },
  {
   "cell_type": "code",
   "execution_count": 28,
   "metadata": {},
   "outputs": [
    {
     "data": {
      "text/plain": [
       "array([1, 2, 3, 4, 5, 6])"
      ]
     },
     "execution_count": 28,
     "metadata": {},
     "output_type": "execute_result"
    }
   ],
   "source": [
    "arr_2d.reshape(-1)"
   ]
  },
  {
   "cell_type": "markdown",
   "metadata": {},
   "source": [
    "### Iterating\n",
    "\n",
    "If we iterate on a n-D array it will go through n-1th dimension one by one."
   ]
  },
  {
   "cell_type": "code",
   "execution_count": 29,
   "metadata": {},
   "outputs": [
    {
     "name": "stdout",
     "output_type": "stream",
     "text": [
      "1\n",
      "2\n",
      "3\n",
      "[1 2 3]\n",
      "[4 5 6]\n"
     ]
    }
   ],
   "source": [
    "arr = np.array([1, 2, 3])\n",
    "\n",
    "for x in arr:\n",
    "  print(x)\n",
    "\n",
    "# Iterating 2-D Arrays\n",
    "arr = np.array([[1, 2, 3], [4, 5, 6]])\n",
    "\n",
    "for x in arr:\n",
    "  print(x)"
   ]
  },
  {
   "cell_type": "markdown",
   "metadata": {},
   "source": [
    "Iterating Arrays Using `nditer()`\n",
    "- Iterating on Each Scalar Element\n",
    "- Iterating Array With Different Data Types using `op_dtypes` argument and pass it the expected datatype to change the datatype of elements while iterating.\n",
    "\n",
    "NumPy does not change the data type of the element in-place (where the element is in array), so it needs some other space to perform this action, that extra space is called buffer, and in order to enable it in `nditer()` we pass `flags=['buffered']`."
   ]
  },
  {
   "cell_type": "code",
   "execution_count": 30,
   "metadata": {},
   "outputs": [
    {
     "name": "stdout",
     "output_type": "stream",
     "text": [
      "b'1'\n",
      "b'2'\n",
      "b'3'\n",
      "b'4'\n",
      "b'5'\n",
      "b'6'\n"
     ]
    }
   ],
   "source": [
    "for x in np.nditer(arr_2d, flags=['buffered'], op_dtypes=['S']):\n",
    "  print(x)"
   ]
  },
  {
   "cell_type": "markdown",
   "metadata": {},
   "source": [
    "Iterating With Different Step Size"
   ]
  },
  {
   "cell_type": "code",
   "execution_count": 31,
   "metadata": {},
   "outputs": [
    {
     "name": "stdout",
     "output_type": "stream",
     "text": [
      "1\n",
      "3\n",
      "4\n",
      "6\n"
     ]
    }
   ],
   "source": [
    "for x in np.nditer(arr_2d[:, ::2]):\n",
    "  print(x)"
   ]
  },
  {
   "cell_type": "markdown",
   "metadata": {},
   "source": [
    "Enumerated Iteration Using `ndenumerate()`\n",
    "- means mentioning sequence number of somethings one by one.\n",
    "- Useful when we require corresponding index of the element while iterating"
   ]
  },
  {
   "cell_type": "code",
   "execution_count": 32,
   "metadata": {},
   "outputs": [
    {
     "name": "stdout",
     "output_type": "stream",
     "text": [
      "(0, 0) 1\n",
      "(0, 1) 2\n",
      "(0, 2) 3\n",
      "(1, 0) 4\n",
      "(1, 1) 5\n",
      "(1, 2) 6\n"
     ]
    }
   ],
   "source": [
    "for idx, x in np.ndenumerate(arr_2d):\n",
    "  print(idx, x)"
   ]
  },
  {
   "cell_type": "markdown",
   "metadata": {},
   "source": [
    "### Join\n",
    "\n",
    "`concatenate()`\n",
    "- join a sequence of arrays along an <span style=\"color:red\">existing</span> axis.  \n",
    "\n",
    "`stack`()\n",
    "- join a sequence of arrays along a <span style=\"color:red\">new</span> axis.\n",
    "\n",
    "`concatenate()`\n",
    "- `axis`, the axis along which the arrays will be joined. If axis is `None`, arrays are flattened before use. Default is 0.\n",
    "\n",
    "`stack`\n",
    "- `axis`, the axis in the result array along which the input arrays are stacked."
   ]
  },
  {
   "cell_type": "code",
   "execution_count": 60,
   "metadata": {},
   "outputs": [
    {
     "name": "stdout",
     "output_type": "stream",
     "text": [
      "[[1 2]\n",
      " [3 4]\n",
      " [5 6]] \n",
      "\n",
      "[[1 2 5]\n",
      " [3 4 6]] \n",
      "\n",
      "[1 2 3 4 5 6]\n"
     ]
    }
   ],
   "source": [
    "a = np.array([[1, 2], [3, 4]])\n",
    "b = np.array([[5, 6]])\n",
    "\n",
    "print(np.concatenate((a, b), axis=0), '\\n') \n",
    "print(np.concatenate((a, b.T), axis=1), '\\n')\n",
    "print(np.concatenate((a, b), axis=None))"
   ]
  },
  {
   "cell_type": "code",
   "execution_count": 74,
   "metadata": {},
   "outputs": [
    {
     "name": "stdout",
     "output_type": "stream",
     "text": [
      "[[1 2 5 6]\n",
      " [3 4 7 8]]\n"
     ]
    }
   ],
   "source": [
    "# Join two 2-D arrays along columns (axis=1):\n",
    "arr1 = np.array([[1, 2], [3, 4]])\n",
    "arr2 = np.array([[5, 6], [7, 8]])\n",
    "\n",
    "arr = np.concatenate((arr1, arr2), axis=1)\n",
    "print(arr)"
   ]
  },
  {
   "cell_type": "code",
   "execution_count": 75,
   "metadata": {},
   "outputs": [
    {
     "data": {
      "text/plain": [
       "array([[1, 2, 3],\n",
       "       [4, 5, 6]])"
      ]
     },
     "execution_count": 75,
     "metadata": {},
     "output_type": "execute_result"
    }
   ],
   "source": [
    "# stack()\n",
    "a = np.array([1, 2, 3])\n",
    "b = np.array([4, 5, 6])\n",
    "\n",
    "np.stack((a, b))"
   ]
  },
  {
   "cell_type": "code",
   "execution_count": 73,
   "metadata": {},
   "outputs": [
    {
     "data": {
      "text/plain": [
       "array([[1, 4],\n",
       "       [2, 5],\n",
       "       [3, 6]])"
      ]
     },
     "execution_count": 73,
     "metadata": {},
     "output_type": "execute_result"
    }
   ],
   "source": [
    "np.stack((a, b), axis=-1)"
   ]
  },
  {
   "cell_type": "markdown",
   "metadata": {},
   "source": [
    "Stacking along \n",
    "- rows: `hstack()`\n",
    "- columns: `vstack`\n",
    "- depth (height): `hstack` "
   ]
  },
  {
   "cell_type": "code",
   "execution_count": 62,
   "metadata": {},
   "outputs": [
    {
     "name": "stdout",
     "output_type": "stream",
     "text": [
      "[1 2 3 4 5 6] \n",
      "\n",
      "[[1 2 3]\n",
      " [4 5 6]] \n",
      "\n",
      "[[[1 4]\n",
      "  [2 5]\n",
      "  [3 6]]]\n"
     ]
    }
   ],
   "source": [
    "arr1 = np.array([1, 2, 3])\n",
    "arr2 = np.array([4, 5, 6])\n",
    "\n",
    "print(np.hstack((arr1, arr2)), '\\n')\n",
    "print(np.vstack((arr1, arr2)), '\\n')\n",
    "print(np.dstack((arr1, arr2)))"
   ]
  },
  {
   "cell_type": "code",
   "execution_count": 76,
   "metadata": {},
   "outputs": [
    {
     "name": "stdout",
     "output_type": "stream",
     "text": [
      "[[1 2 5 6]\n",
      " [3 4 7 8]] \n",
      " [[1 2 5 6]\n",
      " [3 4 7 8]] \n",
      "\n",
      "[[1 2]\n",
      " [3 4]\n",
      " [5 6]\n",
      " [7 8]] \n",
      " [[1 2]\n",
      " [3 4]\n",
      " [5 6]\n",
      " [7 8]] \n",
      "\n",
      "[[[1 5]\n",
      "  [2 6]]\n",
      "\n",
      " [[3 7]\n",
      "  [4 8]]]\n"
     ]
    }
   ],
   "source": [
    "# 2D arrays\n",
    "arr1 = np.array([[1, 2], [3, 4]])\n",
    "arr2 = np.array([[5, 6], [7, 8]])\n",
    "\n",
    "print(np.hstack((arr1, arr2)), '\\n', np.concatenate((arr1, arr2), axis=1), '\\n')\n",
    "print(np.vstack((arr1, arr2)), '\\n', np.concatenate((arr1, arr2), axis=0), '\\n')\n",
    "print(np.dstack((arr1, arr2)))"
   ]
  },
  {
   "cell_type": "markdown",
   "metadata": {},
   "source": [
    "### Split\n",
    "\n",
    "`split(ary, indices_or_sections, axis=0)[source]`\n",
    "- Split an array into multiple sub-arrays as views into `ary`.\n",
    "- `indices_or_sectionsint`: `int` or 1-D array                 \n",
    "    - If indices_or_sections is an integer, N, the array will be divided into N equal arrays along axis. If such a split is not possible, an error is raised.\n",
    "    - If indices_or_sections is a 1-D array of sorted integers, the entries indicate where along axis the array is split. If an index exceeds the dimension of the array along axis, an empty sub-array is returned correspondingly.\n",
    "\n",
    "- `axis`: `int`, _optional_, the axis along which to split, default is 0.\n",
    "- Returns: sub-arrays, list of ndarrays, a list of sub-arrays as views into ary."
   ]
  },
  {
   "cell_type": "code",
   "execution_count": 78,
   "metadata": {},
   "outputs": [
    {
     "data": {
      "text/plain": [
       "[array([0., 1., 2., 3.]), array([4., 5., 6., 7.])]"
      ]
     },
     "execution_count": 78,
     "metadata": {},
     "output_type": "execute_result"
    }
   ],
   "source": [
    "x = np.arange(8.0)\n",
    "np.split(x, 2)"
   ]
  },
  {
   "cell_type": "code",
   "execution_count": 79,
   "metadata": {},
   "outputs": [
    {
     "data": {
      "text/plain": [
       "[array([0., 1., 2.]),\n",
       " array([3., 4.]),\n",
       " array([5.]),\n",
       " array([6., 7.]),\n",
       " array([], dtype=float64)]"
      ]
     },
     "execution_count": 79,
     "metadata": {},
     "output_type": "execute_result"
    }
   ],
   "source": [
    "np.split(x, [3, 5, 6, 10])"
   ]
  },
  {
   "cell_type": "markdown",
   "metadata": {},
   "source": [
    "`array_split`\n",
    "- only difference: `array_split` allows `indices_or_sections` to be an integer that does <code style=\"background:yellow;color:black\">not</code> equally divide the axis."
   ]
  },
  {
   "cell_type": "code",
   "execution_count": 80,
   "metadata": {},
   "outputs": [
    {
     "data": {
      "text/plain": [
       "[array([0., 1., 2.]), array([3., 4., 5.]), array([6., 7.])]"
      ]
     },
     "execution_count": 80,
     "metadata": {},
     "output_type": "execute_result"
    }
   ],
   "source": [
    "x = np.arange(8.0)\n",
    "np.array_split(x, 3)"
   ]
  },
  {
   "cell_type": "code",
   "execution_count": 81,
   "metadata": {},
   "outputs": [
    {
     "data": {
      "text/plain": [
       "[array([0, 1, 2]), array([3, 4]), array([5, 6]), array([7, 8])]"
      ]
     },
     "execution_count": 81,
     "metadata": {},
     "output_type": "execute_result"
    }
   ],
   "source": [
    "x = np.arange(9)\n",
    "np.array_split(x, 4)"
   ]
  },
  {
   "cell_type": "markdown",
   "metadata": {},
   "source": [
    "- `vsplit`, split an array into multiple sub-arrays vertically (row-wise).\n",
    "     - equivalent to `split` with `axis=0` (default), the array is always split along the first axis regardless of the array dimension.\n",
    "- `hsplit`, split an array into multiple sub-arrays horizontally (column-wise).\n",
    "    - equivalent to `split` with `axis=1`, the array is always split along the second axis except for 1-D arrays, where it is split at `axis=0`.\n",
    "- `dsplit`, split array into multiple sub-arrays along the 3rd axis (depth).\n"
   ]
  },
  {
   "cell_type": "code",
   "execution_count": 84,
   "metadata": {},
   "outputs": [
    {
     "data": {
      "text/plain": [
       "[array([[[0., 1.],\n",
       "         [2., 3.]]]),\n",
       " array([[[4., 5.],\n",
       "         [6., 7.]]])]"
      ]
     },
     "execution_count": 84,
     "metadata": {},
     "output_type": "execute_result"
    }
   ],
   "source": [
    "x = np.arange(8.0).reshape(2, 2, 2)\n",
    "np.vsplit(x, 2)"
   ]
  },
  {
   "cell_type": "code",
   "execution_count": 85,
   "metadata": {},
   "outputs": [
    {
     "data": {
      "text/plain": [
       "[array([[[0., 1.]],\n",
       " \n",
       "        [[4., 5.]]]),\n",
       " array([[[2., 3.]],\n",
       " \n",
       "        [[6., 7.]]])]"
      ]
     },
     "execution_count": 85,
     "metadata": {},
     "output_type": "execute_result"
    }
   ],
   "source": [
    "np.hsplit(x, 2)"
   ]
  },
  {
   "cell_type": "code",
   "execution_count": 86,
   "metadata": {},
   "outputs": [
    {
     "data": {
      "text/plain": [
       "[array([[[0.],\n",
       "         [2.]],\n",
       " \n",
       "        [[4.],\n",
       "         [6.]]]),\n",
       " array([[[1.],\n",
       "         [3.]],\n",
       " \n",
       "        [[5.],\n",
       "         [7.]]])]"
      ]
     },
     "execution_count": 86,
     "metadata": {},
     "output_type": "execute_result"
    }
   ],
   "source": [
    "np.dsplit(x, 2)"
   ]
  },
  {
   "cell_type": "markdown",
   "metadata": {},
   "source": [
    "### Search\n",
    "\n",
    "`argmax(a[, axis, out, keepdims])`\n",
    "- Returns the indices of the maximum values along an axis.\n",
    "- `axis`, `int`, optional. By default is `None`, the index is into the flattened array, otherwise along the specified `axis`.\n",
    "- `out`, array, optional. If provided, the result will be inserted into this array. It should be of the appropriate `shape` and `dtype`.\n",
    "- `keepdims`, `bool`, optional. If this is set to True, the axes which are reduced are left in the result as dimensions with size one. With this option, the result will broadcast correctly against the array.\n",
    "- Returns: `index_array`, `ndarray` of `ints`\n",
    "Array of indices into the array. It has the same shape as `a.shape` with the dimension along `axis` removed. If `keepdims` is set to `True`, then the size of `axis` will be 1 with the resulting array having same shape as `a.shape`."
   ]
  },
  {
   "cell_type": "code",
   "execution_count": 87,
   "metadata": {},
   "outputs": [
    {
     "name": "stdout",
     "output_type": "stream",
     "text": [
      "[[10 11 12]\n",
      " [13 14 15]]\n",
      "5\n",
      "[1 1 1] [2 2]\n"
     ]
    }
   ],
   "source": [
    "a = np.arange(6).reshape(2,3) + 10\n",
    "print(a)\n",
    "print(np.argmax(a))\n",
    "print(np.argmax(a, axis=0), np.argmax(a, axis=1))"
   ]
  },
  {
   "cell_type": "code",
   "execution_count": 89,
   "metadata": {},
   "outputs": [
    {
     "name": "stdout",
     "output_type": "stream",
     "text": [
      "(1, 2) 15\n"
     ]
    }
   ],
   "source": [
    "# unravel_index(): Converts a flat index or array of flat indices into a tuple of coordinate arrays.\n",
    "ind = np.unravel_index(np.argmax(a, axis=None), a.shape)\n",
    "print(ind, a[ind])"
   ]
  },
  {
   "cell_type": "code",
   "execution_count": 90,
   "metadata": {},
   "outputs": [
    {
     "name": "stdout",
     "output_type": "stream",
     "text": [
      "[0 5 2 3 4 5]\n"
     ]
    },
    {
     "data": {
      "text/plain": [
       "1"
      ]
     },
     "execution_count": 90,
     "metadata": {},
     "output_type": "execute_result"
    }
   ],
   "source": [
    "b = np.arange(6)\n",
    "b[1] = 5\n",
    "\n",
    "print(b)\n",
    "np.argmax(b)  # Only the first occurrence is returned."
   ]
  },
  {
   "cell_type": "code",
   "execution_count": 116,
   "metadata": {},
   "outputs": [
    {
     "data": {
      "text/plain": [
       "array([4, 3])"
      ]
     },
     "execution_count": 116,
     "metadata": {},
     "output_type": "execute_result"
    }
   ],
   "source": [
    "x = np.array([[4,2,3], [1,0,3]])\n",
    "index_array = np.argmax(x, axis=-1)\n",
    "\n",
    "# Same as np.amax(x, axis=-1, keepdims=True)\n",
    "np.take_along_axis(x, np.expand_dims(index_array, axis=-1), axis=-1)\n",
    "\n",
    "# Same as np.amax(x, axis=-1)\n",
    "np.take_along_axis(x, np.expand_dims(index_array, axis=-1), axis=-1).squeeze(axis=-1)"
   ]
  },
  {
   "cell_type": "code",
   "execution_count": 95,
   "metadata": {},
   "outputs": [
    {
     "name": "stdout",
     "output_type": "stream",
     "text": [
      "(2, 4) (2, 1, 4)\n"
     ]
    }
   ],
   "source": [
    "x = np.arange(24).reshape((2, 3, 4))\n",
    "res  = np.argmax(x, axis=1, keepdims=False)\n",
    "res2 = np.argmax(x, axis=1, keepdims=True)\n",
    "print(res.shape, res2.shape)"
   ]
  },
  {
   "cell_type": "markdown",
   "metadata": {},
   "source": [
    "`numpy.nanargmax(a, axis=None, out=None, *, keepdims=<no value>)`\n",
    "- Return the indices of the maximum values in the specified axis <span style=\"color:blue\">ignoring NaNs</span>. For all-NaN slices `ValueError` is raised. Warning: the results cannot be trusted if a slice contains only NaNs and -Infs."
   ]
  },
  {
   "cell_type": "code",
   "execution_count": 129,
   "metadata": {},
   "outputs": [
    {
     "name": "stdout",
     "output_type": "stream",
     "text": [
      "[[ 5. nan  4.]\n",
      " [ 1.  2.  3.]]\n",
      "np.argmax() returns the index of np.nan: np.argmax(a))\n",
      "0 [0 1 0] [0 2]\n"
     ]
    }
   ],
   "source": [
    "a = np.array([[5, np.nan, 4], [1, 2, 3]])\n",
    "\n",
    "print(a)\n",
    "\n",
    "# np.argmax() returns the index of np.nan\n",
    "print(f'np.argmax() returns the index of np.nan: np.argmax(a))')\n",
    "\n",
    "print(np.nanargmax(a), np.nanargmax(a, axis=0), np.nanargmax(a, axis=1))"
   ]
  },
  {
   "cell_type": "markdown",
   "metadata": {},
   "source": [
    "`numpy.argmin(a, axis=None, out=None, *, keepdims=<no value>)`\n",
    "- Returns the indices of the minimum values along an axis.\n",
    "\n",
    "`numpy.nanargmin(a, axis=None, out=None, *, keepdims=<no value>)`\n",
    "- Return the indices of the minimum values in the specified axis ignoring NaNs. For all-NaN slices `ValueError` is raised. Warning: the results cannot be trusted if a slice contains only NaNs and Infs."
   ]
  },
  {
   "cell_type": "markdown",
   "metadata": {},
   "source": [
    "`numpy.argwhere(a)`\n",
    "- Find the indices of array elements that are non-zero, grouped by element.\n",
    "- Returns: `index_array`: `(N, a.ndim) ndarray`\n",
    "    - Indices of elements that are non-zero. Indices are grouped by element. This array will have shape `(N, a.ndim)` where `N` is the number of non-zero items."
   ]
  },
  {
   "cell_type": "code",
   "execution_count": 130,
   "metadata": {},
   "outputs": [
    {
     "data": {
      "text/plain": [
       "array([[0, 2],\n",
       "       [1, 0],\n",
       "       [1, 1],\n",
       "       [1, 2]])"
      ]
     },
     "execution_count": 130,
     "metadata": {},
     "output_type": "execute_result"
    }
   ],
   "source": [
    "x = np.arange(6).reshape(2,3)\n",
    "np.argwhere(x>1)"
   ]
  },
  {
   "cell_type": "markdown",
   "metadata": {},
   "source": [
    "`numpy.nonzero(a)`\n",
    "- Return the indices of the elements that are non-zero.\n",
    "- Returns a tuple of arrays, one for each dimension of a, containing the indices of the non-zero elements in that dimension. The values in a are always tested and returned in row-major, C-style order.\n",
    "- To group the indices by element, rather than dimension, use `argwhere`, which returns a row for each non-zero element.\n",
    "- Returns: `tuple_of_arrays`: `tuple`. Indices of elements that are non-zero.\n",
    "\n",
    "<span style=\"color:blue\">Notes</span>  \n",
    "While the nonzero values can be obtained with `a[nonzero(a)]`, it is recommended to use `x[x.astype(bool)]` or `x[x != 0]` instead, which will correctly handle 0-d arrays.\n"
   ]
  },
  {
   "cell_type": "code",
   "execution_count": 169,
   "metadata": {},
   "outputs": [
    {
     "name": "stdout",
     "output_type": "stream",
     "text": [
      "[[3 0 0]\n",
      " [0 4 0]\n",
      " [5 6 0]] \n",
      " (array([0, 1, 2, 2]), array([0, 1, 0, 1])) \n",
      " x[np.nonzero(x)] = [3 4 5 6] \n",
      " np.transpose(np.nonzero(x)) = [[0 0]\n",
      " [1 1]\n",
      " [2 0]\n",
      " [2 1]]\n"
     ]
    }
   ],
   "source": [
    "x = np.array([[3, 0, 0], [0, 4, 0], [5, 6, 0]])\n",
    "print(\n",
    "    x, '\\n',\n",
    "    np.nonzero(x), '\\n',\n",
    "    f'x[np.nonzero(x)] = {x[np.nonzero(x)]} \\n',\n",
    "    f'np.transpose(np.nonzero(x)) = {np.transpose(np.nonzero(x))}')"
   ]
  },
  {
   "cell_type": "markdown",
   "metadata": {},
   "source": [
    "A common use for `nonzero` is to find the indices of an array, where a condition is True. Given an array a, the condition a > 3 is a boolean array and since False is interpreted as 0, np.nonzero(a > 3) yields the indices of the a where the condition is true."
   ]
  },
  {
   "cell_type": "code",
   "execution_count": 143,
   "metadata": {},
   "outputs": [
    {
     "name": "stdout",
     "output_type": "stream",
     "text": [
      "[[False False False]\n",
      " [ True  True  True]\n",
      " [ True  True  True]]\n",
      "(array([1, 1, 1, 2, 2, 2]), array([0, 1, 2, 0, 1, 2]))\n"
     ]
    }
   ],
   "source": [
    "a = np.array([[1, 2, 3], [4, 5, 6], [7, 8, 9]])\n",
    "print(a > 3)\n",
    "print(np.nonzero(a > 3))"
   ]
  },
  {
   "cell_type": "code",
   "execution_count": 145,
   "metadata": {},
   "outputs": [
    {
     "data": {
      "text/plain": [
       "array([4, 5, 6, 7, 8, 9])"
      ]
     },
     "execution_count": 145,
     "metadata": {},
     "output_type": "execute_result"
    }
   ],
   "source": [
    "# Using this result to index a is equivalent to using the mask directly:\n",
    "a[a > 3]  # prefer this spelling"
   ]
  },
  {
   "cell_type": "code",
   "execution_count": 146,
   "metadata": {},
   "outputs": [
    {
     "data": {
      "text/plain": [
       "(array([1, 1, 1, 2, 2, 2]), array([0, 1, 2, 0, 1, 2]))"
      ]
     },
     "execution_count": 146,
     "metadata": {},
     "output_type": "execute_result"
    }
   ],
   "source": [
    "# nonzero can also be called as a method of the array.\n",
    "(a > 3).nonzero()"
   ]
  },
  {
   "cell_type": "markdown",
   "metadata": {},
   "source": [
    "`numpy.flatnonzero(a)`\n",
    "- Return indices that are non-zero in the flattened version of a.\n",
    "- equivalent to `np.nonzero(np.ravel(a))[0]`."
   ]
  },
  {
   "cell_type": "code",
   "execution_count": 156,
   "metadata": {},
   "outputs": [
    {
     "data": {
      "text/plain": [
       "array([0, 1, 3, 4])"
      ]
     },
     "execution_count": 156,
     "metadata": {},
     "output_type": "execute_result"
    }
   ],
   "source": [
    "x = np.arange(-2, 3)\n",
    "\n",
    "np.flatnonzero(x)"
   ]
  },
  {
   "cell_type": "code",
   "execution_count": 157,
   "metadata": {},
   "outputs": [
    {
     "data": {
      "text/plain": [
       "array([-2, -1,  1,  2])"
      ]
     },
     "execution_count": 157,
     "metadata": {},
     "output_type": "execute_result"
    }
   ],
   "source": [
    "# Use the indices of the non-zero elements as an index array to extract these elements:\n",
    "x.ravel()[np.flatnonzero(x)]"
   ]
  },
  {
   "cell_type": "markdown",
   "metadata": {},
   "source": [
    "`where(condition, [x, y, ]/)`\n",
    "- Return elements chosen from x or y depending on _condition_.\n",
    "- `condition` array_like, `bool`. Where True, yield x, otherwise yield y.\n",
    "    - x, y array_like: Values from which to choose. x, y and condition need to be broadcastable to some shape.\n",
    "\n",
    "Returns:\n",
    "outndarray\n",
    "An array with elements from x where condition is True, and elements from y elsewhere.\n",
    "\n",
    "<span style=\"color:blue\">Notes</span>  \n",
    "When only _condition_ is provided, this function is a shorthand for `np.asarray(condition).nonzero()`. Using `nonzero` directly should be __preferred__, as it behaves correctly for subclasses. The rest of this documentation covers only the case where all three arguments are provided.\n",
    "\n",
    "<span style=\"color:blue\">Notes</span>  \n",
    "If all the arrays are 1-D, where is equivalent to:  \n",
    "```python\n",
    "[xv if c else yv for c, xv, yv in zip(condition, x, y)]\n",
    " ```"
   ]
  },
  {
   "cell_type": "code",
   "execution_count": 159,
   "metadata": {},
   "outputs": [
    {
     "data": {
      "text/plain": [
       "array([ 0,  1,  2,  3,  4, 50, 60, 70, 80, 90])"
      ]
     },
     "execution_count": 159,
     "metadata": {},
     "output_type": "execute_result"
    }
   ],
   "source": [
    "a = np.arange(10)\n",
    "\n",
    "np.where(a < 5, a, 10*a)"
   ]
  },
  {
   "cell_type": "code",
   "execution_count": 158,
   "metadata": {},
   "outputs": [
    {
     "data": {
      "text/plain": [
       "array([[1, 8],\n",
       "       [3, 4]])"
      ]
     },
     "execution_count": 158,
     "metadata": {},
     "output_type": "execute_result"
    }
   ],
   "source": [
    "# multidimensional arrays\n",
    "\n",
    "np.where([[True, False], [True, True]],\n",
    "         [[1, 2], [3, 4]],\n",
    "         [[9, 8], [7, 6]])"
   ]
  },
  {
   "cell_type": "code",
   "execution_count": 160,
   "metadata": {},
   "outputs": [
    {
     "data": {
      "text/plain": [
       "array([[10,  0,  0,  0],\n",
       "       [10, 11,  1,  1],\n",
       "       [10, 11, 12,  2]])"
      ]
     },
     "execution_count": 160,
     "metadata": {},
     "output_type": "execute_result"
    }
   ],
   "source": [
    "# The shapes of x, y, and the condition are broadcast together:\n",
    "\n",
    "x, y = np.ogrid[:3, :4]\n",
    "np.where(x < y, x, 10 + y)  # both x and 10+y are broadcast"
   ]
  },
  {
   "cell_type": "code",
   "execution_count": 161,
   "metadata": {},
   "outputs": [
    {
     "data": {
      "text/plain": [
       "array([[ 0,  1,  2],\n",
       "       [ 0,  2, -1],\n",
       "       [ 0,  3, -1]])"
      ]
     },
     "execution_count": 161,
     "metadata": {},
     "output_type": "execute_result"
    }
   ],
   "source": [
    "a = np.array([[0, 1, 2],\n",
    "              [0, 2, 4],\n",
    "              [0, 3, 6]])\n",
    "np.where(a < 4, a, -1)  # -1 is broadcast"
   ]
  },
  {
   "cell_type": "code",
   "execution_count": 162,
   "metadata": {},
   "outputs": [
    {
     "data": {
      "text/plain": [
       "[array([[0],\n",
       "        [1],\n",
       "        [2]]),\n",
       " array([[0, 1, 2, 3]])]"
      ]
     },
     "execution_count": 162,
     "metadata": {},
     "output_type": "execute_result"
    }
   ],
   "source": [
    "np.ogrid[:3, :4]"
   ]
  },
  {
   "cell_type": "markdown",
   "metadata": {},
   "source": [
    "`numpy.searchsorted(a, v, side='left', sorter=None)`\n",
    "- Find indices where elements should be inserted to maintain order.\n",
    "- Find the indices into a sorted array a such that, if the corresponding elements in v were inserted before the indices, the order of a would be preserved.\n",
    "- Assuming a is sorted\n",
    "- `left`: `a[i-1] < v <= a[i]`\n",
    "- `right`: `a[i-1] <= v < a[i]`\n",
    "\n",
    "Parameters\n",
    "- `a`: 1-D array_like. Input array. If `sorter` is `None`, then it must be sorted in ascending order, otherwise `sorter` must be an array of indices that sort it.\n",
    "- `v`: array_like. Values to insert into a.\n",
    "- `side{‘left’, ‘right’}`, optional. If ‘left’, the index of the first suitable location found is given. If ‘right’, return the last such index. If there is no suitable index, return either 0 or N (where N is the length of a).\n",
    "- `sorter`: 1-D array_like, optional. Optional array of integer indices that sort array a into ascending order. They are typically the result of `argsort`.\n",
    "\n",
    "Returns: `indices`, `int` or `array of ints`\n",
    "- Array of insertion points with the same shape as `v`, or an integer if `v` is a scalar.\n",
    "\n",
    "\n"
   ]
  },
  {
   "cell_type": "code",
   "execution_count": 166,
   "metadata": {},
   "outputs": [
    {
     "name": "stdout",
     "output_type": "stream",
     "text": [
      "2 \n",
      " 3 \n",
      " [0 5 1 2]\n"
     ]
    }
   ],
   "source": [
    "x = [1,2,3,4,5]\n",
    "\n",
    "print(\n",
    "    np.searchsorted(x, 3), '\\n',\n",
    "    np.searchsorted(x, 3, side='right'), '\\n',\n",
    "    np.searchsorted(x, [-10, 10, 2, 3]) )"
   ]
  },
  {
   "cell_type": "markdown",
   "metadata": {},
   "source": [
    "`numpy.extract(condition, arr)`\n",
    "- Return the elements of an array that satisfy some condition.\n",
    "- This is equivalent to `np.compress(ravel(condition), ravel(arr))`. \n",
    "- If condition is boolean, `np.extract` is equivalent to `arr[condition]`.\n",
    "\n",
    "Note that `place` does the exact opposite of `extract`.\n",
    "\n",
    "Parameters:\n",
    "- `condition`: array_like. An array whose nonzero or `True` entries indicate the elements of `arr` to extract.\n",
    "- `arr`: array_like. Input array of the same size as condition.\n",
    "\n",
    "Returns:\n",
    "- extract: ndarray. Rank 1 array of values from arr where condition is `True`."
   ]
  },
  {
   "cell_type": "code",
   "execution_count": 172,
   "metadata": {},
   "outputs": [
    {
     "name": "stdout",
     "output_type": "stream",
     "text": [
      "[[ True False False  True]\n",
      " [False False  True False]\n",
      " [False  True False False]] \n",
      " [0 3 6 9]\n"
     ]
    }
   ],
   "source": [
    "arr = np.arange(12).reshape((3, 4))\n",
    "\n",
    "condition = np.mod(arr, 3)==0\n",
    "print(\n",
    "    condition, '\\n',\n",
    "    np.extract(condition, arr))"
   ]
  },
  {
   "cell_type": "code",
   "execution_count": 171,
   "metadata": {},
   "outputs": [
    {
     "data": {
      "text/plain": [
       "array([0, 3, 6, 9])"
      ]
     },
     "execution_count": 171,
     "metadata": {},
     "output_type": "execute_result"
    }
   ],
   "source": [
    "# If condition is boolean:\n",
    "arr[condition]"
   ]
  },
  {
   "cell_type": "markdown",
   "metadata": {},
   "source": [
    "### Sort\n",
    "\n",
    "NumPy ndarray object has a function called `sort()`\n",
    "- sort arrays of numbers, strings, and booleans. \n",
    "\n",
    "<div class=\"alert alert-block alert-info\"><b>Notes: </b> This method returns a copy of the array, leaving the original array unchanged.</div>"
   ]
  },
  {
   "cell_type": "code",
   "execution_count": 173,
   "metadata": {},
   "outputs": [
    {
     "data": {
      "text/plain": [
       "array([0, 1, 2, 3])"
      ]
     },
     "execution_count": 173,
     "metadata": {},
     "output_type": "execute_result"
    }
   ],
   "source": [
    "arr = np.array([3, 2, 0, 1])\n",
    "\n",
    "np.sort(arr)"
   ]
  },
  {
   "cell_type": "markdown",
   "metadata": {},
   "source": [
    "Sorting a 2-D Array\n",
    "- both arrays will be sorted"
   ]
  },
  {
   "cell_type": "code",
   "execution_count": 174,
   "metadata": {},
   "outputs": [
    {
     "data": {
      "text/plain": [
       "array([[2, 3, 4],\n",
       "       [0, 1, 5]])"
      ]
     },
     "execution_count": 174,
     "metadata": {},
     "output_type": "execute_result"
    }
   ],
   "source": [
    "arr = np.array([[3, 2, 4], [5, 0, 1]])\n",
    "\n",
    "np.sort(arr)"
   ]
  },
  {
   "cell_type": "markdown",
   "metadata": {},
   "source": [
    "More details: https://numpy.org/doc/stable/reference/routines.sort.html\n",
    "\n",
    "Python `sorted` vs `sort`\n",
    "\n",
    "| `sorted` | `sort` |\n",
    "|------|------|\n",
    "| `sorted(iterable, key=key, reverse=reverse)` | `list.sort(reverse=True\\|False, key=myFunc)` |\n",
    "| Can work both on Sequences and Collections | Only works on list | \n",
    "| Returns a sorted list | Sorts the object in-place, so it returns None |\n",
    "| Creates a sorted copy of the Python object | Sorts the original sequence, i.e., Inplace sorting | "
   ]
  },
  {
   "cell_type": "markdown",
   "metadata": {},
   "source": [
    "### Filter\n",
    "\n",
    "Filtering arrays\n",
    "\n",
    "In NumPy, you filter an array using a boolean index list.\n",
    "- A boolean index list is a list of booleans corresponding to indexes in the array.\n",
    "- If the value at an index is `True`, that element is contained in the filtered array; if the value at that index is False that element is excluded from the filtered array.\n",
    "\n",
    "Create a filter"
   ]
  },
  {
   "cell_type": "code",
   "execution_count": 176,
   "metadata": {},
   "outputs": [
    {
     "name": "stdout",
     "output_type": "stream",
     "text": [
      "[False  True False  True]\n",
      "[42 44]\n"
     ]
    }
   ],
   "source": [
    "arr = np.array([41, 42, 43, 44])\n",
    "\n",
    "filter_arr = arr % 2 == 0\n",
    "# filter_arr = arr > 42\n",
    "\n",
    "newarr = arr[filter_arr]\n",
    "\n",
    "print(filter_arr)\n",
    "print(newarr)"
   ]
  }
 ],
 "metadata": {
  "interpreter": {
   "hash": "c5b92e9ee2fd5fe52685c58091081b7b639ed042e77cb1698e960f10a0c7ec44"
  },
  "kernelspec": {
   "display_name": "Python 3.8.8 ('venv': venv)",
   "language": "python",
   "name": "python3"
  },
  "language_info": {
   "codemirror_mode": {
    "name": "ipython",
    "version": 3
   },
   "file_extension": ".py",
   "mimetype": "text/x-python",
   "name": "python",
   "nbconvert_exporter": "python",
   "pygments_lexer": "ipython3",
   "version": "3.8.8"
  },
  "orig_nbformat": 4
 },
 "nbformat": 4,
 "nbformat_minor": 2
}
