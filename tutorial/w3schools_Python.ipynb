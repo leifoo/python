{
 "cells": [
  {
   "cell_type": "markdown",
   "metadata": {},
   "source": [
    "# Python Tutorial\n",
    "\n",
    "https://www.w3schools.com/python/default.asp\n",
    "\n",
    "## Variables\n",
    "\n",
    "If you use the `global` keyword, the variable belongs to the global scope:"
   ]
  },
  {
   "cell_type": "code",
   "execution_count": null,
   "metadata": {},
   "outputs": [],
   "source": [
    "x = \"awesome\"\n",
    "\n",
    "def myfunc():\n",
    "  global x\n",
    "  x = \"fantastic\"\n",
    "\n",
    "myfunc()\n",
    "\n",
    "print(\"Python is \" + x)"
   ]
  },
  {
   "cell_type": "markdown",
   "metadata": {},
   "source": [
    "## Data Types\n",
    "\n",
    "Python has the following data types built-in by default, in these categories:\n",
    "- Text Type: `str`\n",
    "- Numeric Types: `int`, `float`, `complex`\n",
    "- Sequence Types:\t`list`, `tuple`, `range`\n",
    "- Mapping Type: `dict`\n",
    "- Set Types: `set`, `frozenset`\n",
    "- Boolean Type: `bool`\n",
    "- Binary Types: `bytes`, `bytearray`, `memoryview`\n",
    "\n",
    "The key difference between a List and a Tuple is the fact that lists are __mutable__ whereas tuples are __immutable__.\n",
    "\n",
    "Get the data type of any object by using the `type()` function:"
   ]
  },
  {
   "cell_type": "code",
   "execution_count": null,
   "metadata": {},
   "outputs": [],
   "source": [
    "x = complex(1j)\n",
    "\n",
    "print(type(x))"
   ]
  },
  {
   "cell_type": "markdown",
   "metadata": {},
   "source": [
    "## Numbers\n",
    "\n",
    "Python does not have a `random()` function to make a random number, but Python has a built-in module called `random` that can be used to make random numbers:\n",
    "\n",
    "Import the random module, and display a random number between 1 and 9:"
   ]
  },
  {
   "cell_type": "code",
   "execution_count": null,
   "metadata": {},
   "outputs": [],
   "source": [
    "import random\n",
    "\n",
    "print(random.randrange(1,10))"
   ]
  },
  {
   "cell_type": "markdown",
   "metadata": {},
   "source": [
    "## Casting\n"
   ]
  },
  {
   "cell_type": "code",
   "execution_count": null,
   "metadata": {},
   "outputs": [],
   "source": [
    "x = int(2.1)\n",
    "y = float(2)\n",
    "z = str(2)\n",
    "print(x, y, z, type(x), type(y), type(z))"
   ]
  },
  {
   "cell_type": "markdown",
   "metadata": {},
   "source": [
    "## Strings\n",
    "\n",
    "### Multiline Strings\n",
    "You can assign a multiline string to a variable by using three quotes:"
   ]
  },
  {
   "cell_type": "code",
   "execution_count": null,
   "metadata": {},
   "outputs": [],
   "source": [
    "a = \"\"\"\n",
    "x\n",
    "y\n",
    "z\n",
    "\"\"\"\n",
    "print(a)"
   ]
  },
  {
   "cell_type": "markdown",
   "metadata": {},
   "source": [
    "Strings in Python are arrays of bytes representing unicode characters.\n",
    "\n",
    "### Negative indexing\n",
    "Get the characters from position 5 to position 1, starting the count from the end of the string:"
   ]
  },
  {
   "cell_type": "code",
   "execution_count": null,
   "metadata": {},
   "outputs": [],
   "source": [
    "b = \"Hello, World!\"\n",
    "print(b[-7:-1])"
   ]
  },
  {
   "cell_type": "markdown",
   "metadata": {},
   "source": [
    "### String Methods\n",
    "Python has a set of built-in methods that you can use on strings.\n",
    "\n",
    "Example\n",
    "The `strip()` method removes any whitespace from the beginning or the end:"
   ]
  },
  {
   "cell_type": "code",
   "execution_count": 1,
   "metadata": {},
   "outputs": [
    {
     "name": "stdout",
     "output_type": "stream",
     "text": [
      "Hello, World!\n",
      "hello, world!\n",
      " HELLO, WORLD! \n",
      " hello, World! \n",
      "[' Hello', ' World! ']\n"
     ]
    }
   ],
   "source": [
    "a = \" Hello, World! \"\n",
    "print(a.strip()) # returns \"Hello, World!\"\n",
    "print(a.strip().lower())\n",
    "print(a.upper())\n",
    "print(a.replace('H', 'h'))\n",
    "print(a.split(\",\"))"
   ]
  },
  {
   "cell_type": "markdown",
   "metadata": {},
   "source": [
    "### String Format\n",
    "\n",
    "The `format()` method takes the passed arguments, formats them, and places them in the string where the placeholders `{}` are:"
   ]
  },
  {
   "cell_type": "code",
   "execution_count": null,
   "metadata": {},
   "outputs": [],
   "source": [
    "quantity = 3\n",
    "itemno = 567\n",
    "price = 49.95\n",
    "\n",
    "myorder = \"I want {} pieces of item {} for {} dollars.\"\n",
    "print(myorder.format(quantity, itemno, price))\n",
    "\n",
    "myorder2 = \"I want to pay {2} dollars for {0} pieces of item {1}.\"\n",
    "print(myorder2.format(quantity, itemno, price))"
   ]
  },
  {
   "cell_type": "markdown",
   "metadata": {},
   "source": [
    "### Escape Character\n",
    "\n",
    "To insert characters that are illegal in a string, use an escape character.\n",
    "\n",
    "## Boolean Values\n",
    "\n",
    "Booleans represent one of two values: `True` or `False`.\n",
    "\n",
    "The `bool()` function allows you to evaluate any value, and give you `True` or `False` in return."
   ]
  },
  {
   "cell_type": "code",
   "execution_count": null,
   "metadata": {},
   "outputs": [],
   "source": [
    "bool(None)"
   ]
  },
  {
   "cell_type": "markdown",
   "metadata": {},
   "source": [
    "Python also has many built-in functions that returns a boolean value, like the `isinstance()` function, which can be used to determine if an object is of a certain data type:"
   ]
  },
  {
   "cell_type": "code",
   "execution_count": null,
   "metadata": {},
   "outputs": [],
   "source": [
    "x = 200\n",
    "print(isinstance(x, int))"
   ]
  },
  {
   "cell_type": "markdown",
   "metadata": {},
   "source": [
    "## Operators\n",
    "\n",
    "Python divides the operators in the following groups:\n",
    "- Arithmetic operators (`+`, `-`, `*`, `/`, `%`, `**`, `//`)\n",
    "- Assignment operators (`=`, `+=`, `-=`, `*=`, `/=`, `%=`, `//=`, `**/`, `&/`, `|=`, `^=`, `<<=`, `>>=`)\n",
    "- Comparison operators (`==`, `!=`, `>`, `<`, `<=`, `>=`)\n",
    "- Logical operators (`and`, `or`, `not`)\n",
    "- Identity operators (`is`, `is not`)\n",
    "- Membership operators (`in`, `not in`)\n",
    "- Bitwise operators (`&`, `|`, `^`, `~`, `<<`, `>>`)\n",
    "\n",
    "### Identity Operators\n",
    "\n",
    "Identity operators are used to compare the objects, not if they are equal, but if they are actually the same object, with the same memory location:\n",
    "- `is` \tReturns `True` if both variables are the same object, `x is y`\t\n",
    "- `is not`\tReturns `True` if both variables are not the same object\t`x is not y`\n",
    "\n",
    "### Bitwise Operators\n",
    "\n",
    "| Operator | Name | Description |\n",
    "|------|------|------|\n",
    "| `&` | AND | Sets each bit to 1 if both bits are 1 |\n",
    "| `\\|` | OR  | Sets each bit to 1 if one of two bits is 1 |\n",
    "| `^` | XOR | Sets each bit to 1 if only one of two bits is 1 |\n",
    "| `~` | NOT | Inverts all the bits |\n",
    "| `<<` | Zero fill left shift | Shift left by pushing zeros in from the right and let the leftmost bits fall off |\n",
    "| `>>` | Signed right shift | Shift right by pushing copies of the leftmost bit in from the left, and let the rightmost bits fall off |\n",
    "\n",
    "### Lists\n",
    "\n",
    "To add an item to the end of the list, use the `append()` method:"
   ]
  },
  {
   "cell_type": "code",
   "execution_count": null,
   "metadata": {},
   "outputs": [],
   "source": [
    "thislist = [\"apple\", \"banana\", \"cherry\"]\n",
    "\n",
    "thislist.append(\"orange\")\n",
    "print(thislist)\n",
    "\n",
    "thislist.remove(\"banana\")\n",
    "print(thislist)\n",
    "\n",
    "thislist.pop(-1) # same as thislist.pop()\n",
    "print(thislist)\n",
    "\n",
    "del thislist[0]\n",
    "print(thislist)\n",
    "\n",
    "thislist.clear()\n",
    "print(thislist)\n",
    "\n",
    "del thislist"
   ]
  },
  {
   "cell_type": "code",
   "execution_count": null,
   "metadata": {},
   "outputs": [],
   "source": [
    "thislist = [\"apple\", \"banana\", \"cherry\"]\n",
    "mylist = thislist.copy()\n",
    "mylist = list(thislist)"
   ]
  },
  {
   "cell_type": "code",
   "execution_count": null,
   "metadata": {},
   "outputs": [],
   "source": [
    "# Join Two Lists\n",
    "\n",
    "list1 = [\"a\", \"b\" , \"c\"]\n",
    "list2 = [1, 2, 3]\n",
    "\n",
    "# method 1\n",
    "list3 = list1 + list2\n",
    "\n",
    "# method 2\n",
    "for x in list2:\n",
    "  list1.append(x)\n",
    "\n",
    "# method 3\n",
    "list1.extend(list2)"
   ]
  },
  {
   "cell_type": "markdown",
   "metadata": {},
   "source": [
    "### `list()` Constructor"
   ]
  },
  {
   "cell_type": "code",
   "execution_count": null,
   "metadata": {},
   "outputs": [],
   "source": [
    "thislist = list((\"apple\", \"banana\", \"cherry\")) # note the double round-brackets\n",
    "print(thislist)"
   ]
  },
  {
   "cell_type": "markdown",
   "metadata": {},
   "source": [
    "### List Methods"
   ]
  },
  {
   "cell_type": "markdown",
   "metadata": {},
   "source": [
    "| Method | Description |\n",
    "|:------|:------|\n",
    "| `append()` | Adds an element at the end of the list |\n",
    "| `clear()`  | Removes all the elements from the list |\n",
    "| `copy()`   | Returns a copy of the list |\n",
    "| `count()`\t | Returns the number of elements with the specified value |\n",
    "| `extend()` | Add the elements of a list (or any iterable), to the end of the current list |\n",
    "| `index()`  | Returns the index of the first element with the specified value |\n",
    "| `insert()` | Adds an element at the specified position |\n",
    "| `pop()`    | Removes the element at the specified position |\n",
    "| `remove()` | Removes the item with the specified value |\n",
    "| `reverse()`| Reverses the order of the list |\n",
    "| `sort()`   | Sorts the list |\n",
    "\n",
    "### Tuples\n",
    "\n",
    "Convert the tuple into a list to be able to change it:"
   ]
  },
  {
   "cell_type": "code",
   "execution_count": null,
   "metadata": {},
   "outputs": [],
   "source": [
    "x = (\"apple\", \"banana\", \"cherry\")\n",
    "y = list(x)\n",
    "y[1] = \"kiwi\"\n",
    "x = tuple(y)\n",
    "\n",
    "print(x)"
   ]
  },
  {
   "cell_type": "markdown",
   "metadata": {},
   "source": [
    "One item tuple, remember the comma:"
   ]
  },
  {
   "cell_type": "code",
   "execution_count": null,
   "metadata": {},
   "outputs": [],
   "source": [
    "thistuple = (\"apple\",)\n",
    "print(type(thistuple))\n",
    "\n",
    "#NOT a tuple\n",
    "thistuple = (\"apple\")\n",
    "print(type(thistuple))"
   ]
  },
  {
   "cell_type": "markdown",
   "metadata": {},
   "source": [
    "To join two or more tuples you can use the `+` operator:"
   ]
  },
  {
   "cell_type": "code",
   "execution_count": null,
   "metadata": {},
   "outputs": [],
   "source": [
    "tuple1 = (\"a\", \"b\" , \"c\")\n",
    "tuple2 = (1, 2, 3)\n",
    "\n",
    "tuple3 = tuple1 + tuple2\n",
    "print(tuple3)"
   ]
  },
  {
   "cell_type": "markdown",
   "metadata": {},
   "source": [
    "Python has two built-in methods that you can use on tuples.\n",
    "\n",
    "| Method | Description |\n",
    "|:------|:------|\n",
    "| `count()` | Returns the number of times a specified value occurs in a tuple |\n",
    "| `index()` | Searches the tuple for a specified value and returns the position of where it was found |\n",
    "\n",
    "### Sets\n",
    "\n",
    "Once a set is created, you cannot change its items, but you can add new items.\n",
    "\n",
    "Add an item to a set, using the `add()` method:\n",
    "\n",
    "Add multiple items to a set, using the `update()` method:"
   ]
  },
  {
   "cell_type": "code",
   "execution_count": null,
   "metadata": {},
   "outputs": [],
   "source": [
    "thisset = {\"apple\", \"banana\", \"cherry\"}\n",
    "\n",
    "thisset.add(\"orange\")\n",
    "thisset.update([\"mango\", \"grapes\"])\n",
    "\n",
    "print(thisset)"
   ]
  },
  {
   "cell_type": "markdown",
   "metadata": {},
   "source": [
    "To remove an item in a set, use the `remove()`, or the `discard()` method.\n",
    "\n",
    "The `clear()` method empties the set:\n",
    "\n",
    "The `del` keyword will delete the set completely:"
   ]
  },
  {
   "cell_type": "code",
   "execution_count": null,
   "metadata": {},
   "outputs": [],
   "source": [
    "thisset.remove(\"banana\")\n",
    "thisset.discard(\"apple\")\n",
    "thisset.clear()\n",
    "del thisset"
   ]
  },
  {
   "cell_type": "markdown",
   "metadata": {},
   "source": [
    "The `union()` method returns a new set with all items from both sets:\n",
    "\n",
    "The `update()` method inserts the items in set2 into set1:\n",
    "\n",
    "Both `union()` and `update()` will exclude any duplicate items."
   ]
  },
  {
   "cell_type": "code",
   "execution_count": null,
   "metadata": {},
   "outputs": [],
   "source": [
    "set1 = {\"a\", \"b\" , \"c\"}\n",
    "set2 = {1, 2, 3}\n",
    "\n",
    "set3 = set1.union(set2)\n",
    "set1.update(set2)"
   ]
  },
  {
   "cell_type": "markdown",
   "metadata": {},
   "source": [
    "Set methods:\n",
    "\n",
    "| Method | Description |\n",
    "|:------|:------|\n",
    "| `add()` | Adds an element to the set |\n",
    "| `clear()` | Removes all the elements from the set |\n",
    "| `copy()` | Returns a copy of the set |\n",
    "| `difference()` | Returns a set containing the difference between two or more sets |\n",
    "| `difference_update()` | Removes the items in this set that are also included in another, specified set|\n",
    "| `discard()` | Remove the specified item |\n",
    "| `intersection()` | Returns a set, that is the intersection of two other sets |\n",
    "| `intersection_update()` | Removes the items in this set that are not present in other, specified `set(s)` |\n",
    "| `isdisjoint()` | Returns whether two sets have a intersection or not |\n",
    "| `issubset()` | Returns whether another set contains this set or not |\n",
    "| `issuperset()` | Returns whether this set contains another set or not |\n",
    "| `pop()` | Removes an element from the set |\n",
    "| `remove()` | Removes the specified element |\n",
    "| `symmetric_difference()` | Returns a set with the symmetric differences of two sets |\n",
    "| `symmetric_difference_update()` | inserts the symmetric differences from this set and another |\n",
    "| `union()` | Return a set containing the union of sets |\n",
    "| `update()` | Update the set with the union of this set and others |\n",
    "\n",
    "### Dictionary\n",
    "\n",
    "A dictionary is a collection which is unordered, changeable and indexed."
   ]
  },
  {
   "cell_type": "code",
   "execution_count": 3,
   "metadata": {},
   "outputs": [
    {
     "name": "stdout",
     "output_type": "stream",
     "text": [
      "brand\n",
      "Ford\n",
      "model\n",
      "Mustang\n",
      "year\n",
      "2018\n"
     ]
    }
   ],
   "source": [
    "thisdict = {\n",
    "  \"brand\": \"Ford\",\n",
    "  \"model\": \"Mustang\",\n",
    "  \"year\": 1964\n",
    "}\n",
    "thisdict[\"year\"] = 2018\n",
    "\n",
    "for x in thisdict:\n",
    "  print(x)            # key\n",
    "  print(thisdict[x])  # value"
   ]
  },
  {
   "cell_type": "markdown",
   "metadata": {},
   "source": [
    "You can also use the `values()` function to return values of a dictionary:\n",
    "\n",
    "Loop through both _keys_ and _values_, by using the `items()` function:"
   ]
  },
  {
   "cell_type": "code",
   "execution_count": 5,
   "metadata": {},
   "outputs": [
    {
     "name": "stdout",
     "output_type": "stream",
     "text": [
      "Ford\n",
      "Mustang\n",
      "2018\n",
      "brand Ford\n",
      "model Mustang\n",
      "year 2018\n",
      "('brand', 'Ford')\n",
      "('model', 'Mustang')\n",
      "('year', 2018)\n",
      "<class 'builtin_function_or_method'>\n",
      "<class 'builtin_function_or_method'>\n"
     ]
    }
   ],
   "source": [
    "for x in thisdict.values():\n",
    "  print(x)\n",
    "\n",
    "for x, y in thisdict.items():\n",
    "  print(x, y)\n",
    "\n",
    "for item in thisdict.items():\n",
    "  print(item)\n",
    "\n",
    "print(type(thisdict.values))\n",
    "print(type(thisdict.items))"
   ]
  },
  {
   "cell_type": "markdown",
   "metadata": {},
   "source": [
    "The `pop()` method removes the item with the specified key name:\n",
    "\n",
    "The `popitem()` method removes the last inserted item (in versions before 3.7, a random item is removed instead):\n",
    "\n",
    "The `del` keyword removes the item with the specified key name:"
   ]
  },
  {
   "cell_type": "code",
   "execution_count": null,
   "metadata": {},
   "outputs": [],
   "source": [
    "thisdict.pop(\"model\")\n",
    "print(thisdict)\n",
    "\n",
    "thisdict.popitem()\n",
    "print(thisdict)\n",
    "\n",
    "del thisdict[\"brand\"]\n",
    "print(thisdict)\n",
    "\n",
    "del thisdict"
   ]
  },
  {
   "cell_type": "markdown",
   "metadata": {},
   "source": [
    "### Copy a Dictionary\n",
    "\n",
    "You cannot copy a dictionary simply by typing `dict2 = dict1`, because: `dict2` will only be a reference to `dict1`, and changes made in `dict1` will automatically also be made in `dict2`.\n",
    "\n",
    "Ways to make a copy:\n",
    "1. use the built-in Dictionary method `copy()`.\n",
    "2. use the built-in method `dict()`."
   ]
  },
  {
   "cell_type": "code",
   "execution_count": null,
   "metadata": {},
   "outputs": [],
   "source": [
    "thisdict = {\n",
    "  \"brand\": \"Ford\",\n",
    "  \"model\": \"Mustang\",\n",
    "  \"year\": 1964\n",
    "}\n",
    "mydict = thisdict.copy()\n",
    "mydict2 = dict(thisdict)"
   ]
  },
  {
   "cell_type": "markdown",
   "metadata": {},
   "source": [
    "### Dictionary Methods\n",
    "| Method | Description |\n",
    "|:------|:------|\n",
    "| `clear()` | Removes all the elements from the dictionary |\n",
    "| `copy()` | Returns a copy of the dictionary |\n",
    "| `fromkeys()` |  Returns a dictionary with the specified keys and values | \n",
    "| `get()` | Returns the value of the specified key |\n",
    "| `items()` | Returns a list containing a tuple for each key value pair |\n",
    "| `keys()` | Returns a list containing the dictionary's keys |\n",
    "| `pop()` | Removes the element with the specified key |\n",
    "| `popitem()` | Removes the last inserted key-value pair |\n",
    "| `setdefault()` | Returns the value of the specified key. If the key does not exist: insert the key, with the specified value |\n",
    "| `update()` | Updates the dictionary with the specified key-value pairs |\n",
    "| `values()` | Returns a list of all the values in the dictionary |"
   ]
  },
  {
   "cell_type": "markdown",
   "metadata": {},
   "source": [
    "## `if ... else`\n",
    "\n",
    "One line if else statement:"
   ]
  },
  {
   "cell_type": "code",
   "execution_count": null,
   "metadata": {},
   "outputs": [],
   "source": [
    "a, b = 2, 330\n",
    "print(\"A\") if a > b else print(\"B\")"
   ]
  },
  {
   "cell_type": "markdown",
   "metadata": {},
   "source": [
    "`if` statements cannot be empty, but if you for some reason have an `if` statement with no content, put in the `pass` statement to avoid getting an error."
   ]
  },
  {
   "cell_type": "code",
   "execution_count": null,
   "metadata": {},
   "outputs": [],
   "source": [
    "if b > a:\n",
    "  pass\n",
    "elif a == b:\n",
    "  print(\"a and b are equal\")"
   ]
  },
  {
   "cell_type": "markdown",
   "metadata": {},
   "source": [
    "## `while` Loops\n",
    "\n",
    "With the `continue` statement we can stop the current iteration, and continue with the next:\n",
    "\n",
    "With the `else` statement we can run a block of code once when the condition no longer is true:"
   ]
  },
  {
   "cell_type": "code",
   "execution_count": null,
   "metadata": {},
   "outputs": [],
   "source": [
    "i = 0\n",
    "while i < 6:\n",
    "  i += 1\n",
    "  if i == 3:\n",
    "    continue\n",
    "  print(i)\n",
    "\n",
    "else:\n",
    "  print(\"i is no longer less than 6\")"
   ]
  },
  {
   "cell_type": "markdown",
   "metadata": {},
   "source": [
    "With the `break` statement we can stop the loop even if the while condition is true.\n",
    "\n",
    "## Functions\n",
    "\n",
    "A function is defined using the `def` keyword:"
   ]
  },
  {
   "cell_type": "code",
   "execution_count": null,
   "metadata": {},
   "outputs": [],
   "source": [
    "def my_function():\n",
    "  print(\"Hello from a function\")\n",
    "  \n",
    "my_function()"
   ]
  },
  {
   "cell_type": "markdown",
   "metadata": {},
   "source": [
    "From a function's perspective:\n",
    "- A __parameter__ is the variable listed inside the parentheses in the function definition.\n",
    "- An **argument** is the value that are sent to the function when it is called.\n",
    "\n",
    "### Arbitrary Arguments, `*args`\n",
    "\n",
    "If you do not know how many arguments that will be passed into your function, add a `*` before the parameter name in the function definition.\n",
    "\n",
    "This way the function will receive a tuple of arguments, and can access the items accordingly:"
   ]
  },
  {
   "cell_type": "code",
   "execution_count": null,
   "metadata": {},
   "outputs": [],
   "source": [
    "def my_function(*kids):\n",
    "  print(\"The youngest child is \" + kids[2])\n",
    "\n",
    "my_function(\"Emil\", \"Tobias\", \"Linus\")"
   ]
  },
  {
   "cell_type": "markdown",
   "metadata": {},
   "source": [
    "### Keyword Arguments `kwargs`\n",
    "You can also send arguments with the _key = value_ syntax.\n",
    "\n",
    "This way the order of the arguments does not matter."
   ]
  },
  {
   "cell_type": "code",
   "execution_count": null,
   "metadata": {},
   "outputs": [],
   "source": [
    "def my_function(child3, child2, child1):\n",
    "  print(\"The youngest child is \" + child3)\n",
    "\n",
    "my_function(child1 = \"Emil\", child2 = \"Tobias\", child3 = \"Linus\")"
   ]
  },
  {
   "cell_type": "markdown",
   "metadata": {},
   "source": [
    "### Arbitrary Keyword Arguments, `**kwargs`\n",
    "If you do not know how many keyword arguments that will be passed into your function, add two asterisks: `**` before the parameter name in the function definition.\n",
    "\n",
    "This way the function will receive a dictionary of arguments, and can access the items accordingly:"
   ]
  },
  {
   "cell_type": "code",
   "execution_count": null,
   "metadata": {},
   "outputs": [],
   "source": [
    "def my_function(**kid):\n",
    "  print(\"His last name is \" + kid[\"lname\"])\n",
    "\n",
    "my_function(fname = \"Tobias\", lname = \"Refsnes\")"
   ]
  },
  {
   "cell_type": "markdown",
   "metadata": {},
   "source": [
    "### The `pass` Statement\n",
    "Function definitions cannot be empty, but if you for some reason have a function definition with no content, put in the pass statement to avoid getting an error."
   ]
  },
  {
   "cell_type": "code",
   "execution_count": null,
   "metadata": {},
   "outputs": [],
   "source": [
    "def myfunction:\n",
    "  pass"
   ]
  },
  {
   "cell_type": "markdown",
   "metadata": {},
   "source": [
    "### Lambda Function\n",
    "A lambda function is a small anonymous function.\n",
    "\n",
    "A lambda function can take any number of arguments, but can only have one expression.\n",
    "\n",
    "Syntax\n",
    "> `lambda` _arguments_: _expression_"
   ]
  },
  {
   "cell_type": "code",
   "execution_count": null,
   "metadata": {},
   "outputs": [],
   "source": [
    "x = lambda a, b : a * b\n",
    "print(x(5, 6))"
   ]
  },
  {
   "cell_type": "markdown",
   "metadata": {},
   "source": [
    "The power of lambda is better shown when you use them as an anonymous function inside another function.\n",
    "\n",
    "Say you have a function definition that takes one argument, and that argument will be multiplied with an unknown number.\n",
    "\n",
    "Use that function definition to make a function that always doubles the number you send in:"
   ]
  },
  {
   "cell_type": "code",
   "execution_count": null,
   "metadata": {},
   "outputs": [],
   "source": [
    "def myfunc(n):\n",
    "  return lambda a : a * n\n",
    "\n",
    "mydoubler = myfunc(2)\n",
    "mytripler = myfunc(3)\n",
    "\n",
    "print(mydoubler(11))\n",
    "print(mytripler(11))"
   ]
  },
  {
   "cell_type": "markdown",
   "metadata": {},
   "source": [
    "### Classes/Objects\n",
    "\n",
    "Create a class named `MyClass`, with a property named `x`:"
   ]
  },
  {
   "cell_type": "code",
   "execution_count": null,
   "metadata": {},
   "outputs": [],
   "source": [
    "class MyClass:\n",
    "  x = 5"
   ]
  },
  {
   "cell_type": "markdown",
   "metadata": {},
   "source": [
    "Create an object named `p1`, and print the value of `x`:"
   ]
  },
  {
   "cell_type": "code",
   "execution_count": null,
   "metadata": {},
   "outputs": [],
   "source": [
    "p1 = MyClass()\n",
    "print(p1.x)"
   ]
  },
  {
   "cell_type": "markdown",
   "metadata": {},
   "source": [
    "### The `__init__()` function\n",
    "\n",
    "All classes have a build-in function called `__init__()`, which is always executed when the class is being initiated.\n",
    "\n",
    "Use the `__init__()` function to assign values to object properties, or other operations that are necessary to do when the object is being created:"
   ]
  },
  {
   "cell_type": "code",
   "execution_count": null,
   "metadata": {},
   "outputs": [],
   "source": [
    "class Person:\n",
    "  def __init__(self, name, age):\n",
    "    self.name = name\n",
    "    self.age = age\n",
    "    \n",
    "  def myfunc(self):\n",
    "    print(\"Hello my name is \" + self.name)\n",
    "\n",
    "p1 = Person(\"John\", 36)\n",
    "\n",
    "print(p1.name)\n",
    "print(p1.age)"
   ]
  },
  {
   "cell_type": "markdown",
   "metadata": {},
   "source": [
    "### Object Methods\n",
    "Objects can also contain methods. Methods in objects are functions that belong to the object.\n",
    "\n",
    "<font color=blue>Note:</font> The `self` parameter is a reference to the current instance of the class, and is used to access variables that belong to the class.\n",
    "\n",
    "### The `self` Parameter\n",
    "\n",
    "The `self` parameter is a reference to the current instance of the class, and is used to access variables that belongs to the class.\n",
    "\n",
    "It does not have to be named `self` , you can call it whatever you like, but it has to be the first parameter of any function in the class."
   ]
  },
  {
   "cell_type": "code",
   "execution_count": null,
   "metadata": {},
   "outputs": [],
   "source": [
    "del p1.age\n",
    "del p1"
   ]
  },
  {
   "cell_type": "markdown",
   "metadata": {},
   "source": [
    "### The `pass` Statement\n",
    "class definitions cannot be empty, but if you for some reason have a class definition with no content, put in the pass statement to avoid getting an error."
   ]
  },
  {
   "cell_type": "code",
   "execution_count": null,
   "metadata": {},
   "outputs": [],
   "source": [
    "class Person:\n",
    "  pass"
   ]
  },
  {
   "cell_type": "markdown",
   "metadata": {},
   "source": [
    "## Inheritance\n",
    "Inheritance allows us to define a class that inherits all the methods and properties from another class.\n",
    "\n",
    "__Parent class__ is the class being inherited from, also called __base class__.\n",
    "\n",
    "__Child class__ is the class that inherits from another class, also called __derived class__.\n",
    "\n",
    "To create a class that inherits the functionality from another class, send the parent class as a parameter when creating the child class:"
   ]
  },
  {
   "cell_type": "code",
   "execution_count": null,
   "metadata": {},
   "outputs": [],
   "source": [
    "class Student(Person):\n",
    "  pass"
   ]
  },
  {
   "cell_type": "markdown",
   "metadata": {},
   "source": [
    "When you add the `__init__()` function to the child class, it overrides the inheritance of the parent's `__init__()` function."
   ]
  },
  {
   "cell_type": "code",
   "execution_count": null,
   "metadata": {},
   "outputs": [],
   "source": [
    "class Student(Person):\n",
    "  def __init__(self, fname, lname):\n",
    "    #add properties etc."
   ]
  },
  {
   "cell_type": "markdown",
   "metadata": {},
   "source": [
    "To keep the inheritance of the parent's `__init__()` function, add a call to the parent's `__init__()` function:"
   ]
  },
  {
   "cell_type": "code",
   "execution_count": null,
   "metadata": {},
   "outputs": [],
   "source": [
    "class Student(Person):\n",
    "  def __init__(self, fname, lname):\n",
    "    Person.__init__(self, fname, lname)"
   ]
  },
  {
   "cell_type": "markdown",
   "metadata": {},
   "source": [
    "### Use the `super()` Function\n",
    "Python also has a `super()` function that will make the child class inherit all the methods and properties from its parent:"
   ]
  },
  {
   "cell_type": "code",
   "execution_count": null,
   "metadata": {},
   "outputs": [],
   "source": [
    "class Person:\n",
    "  def __init__(self, fname, lname):\n",
    "    self.firstname = fname\n",
    "    self.lastname = lname\n",
    "\n",
    "  def printname(self):\n",
    "    print(self.firstname, self.lastname)\n",
    "\n",
    "class Student(Person):\n",
    "  def __init__(self, fname, lname, year=2020):\n",
    "    super().__init__(fname, lname)\n",
    "    self.graduationyear = year\n",
    "    \n",
    "  def welcome(self):\n",
    "    print(\"Welcome\", self.firstname, self.lastname, \"to the class of\", self.graduationyear)\n",
    "\n",
    "x = Student(\"Mike\", \"Olsen\")\n",
    "x.printname()\n",
    "x.welcome()"
   ]
  },
  {
   "cell_type": "markdown",
   "metadata": {},
   "source": [
    "## Iterators\n",
    "An iterator is an object that contains a countable number of values. An iterator is an object that can be iterated upon, meaning that you can traverse through all the values.\n",
    "\n",
    "Technically, in Python, an iterator is an object which implements the iterator protocol, which consist of the methods `__iter__()` and `__next__()`.\n",
    "\n",
    "### Iterator vs Iterable\n",
    "Lists, tuples, dictionaries, and sets are all iterable objects. They are iterable _containers_ which you can get an iterator from.\n",
    "\n",
    "All these objects have a `iter()` method which is used to get an iterator:"
   ]
  },
  {
   "cell_type": "code",
   "execution_count": null,
   "metadata": {},
   "outputs": [],
   "source": [
    "# Return an iterator from a tuple, and print each value:\n",
    "\n",
    "mytuple = (\"apple\", \"banana\", \"cherry\")\n",
    "myit = iter(mytuple)\n",
    "\n",
    "print(next(myit))\n",
    "print(next(myit))\n",
    "print(next(myit))"
   ]
  },
  {
   "cell_type": "markdown",
   "metadata": {},
   "source": [
    "The `for` loop actually creates an iterator object and executes the `next()` method for each loop.\n",
    "\n",
    "### Create an Iterator\n",
    "To create an object/class as an iterator you have to implement the methods `__iter__()` and `__next__()` to your object.\n",
    "\n",
    "As you have learned in the Python Classes/Objects chapter, all classes have a function called `__init__()`, which allows you do some initializing when the object is being created.\n",
    "\n",
    "The `__iter__()` method acts similar, you can do operations (initializing etc.), but must always return the iterator object itself.\n",
    "\n",
    "The `__next__()` method also allows you to do operations, and must return the next item in the sequence."
   ]
  },
  {
   "cell_type": "code",
   "execution_count": null,
   "metadata": {},
   "outputs": [],
   "source": [
    "class MyNumbers:\n",
    "  def __iter__(self):\n",
    "    self.a = 1\n",
    "    return self\n",
    "\n",
    "  def __next__(self):\n",
    "    if self.a <= 3:\n",
    "      x = self.a\n",
    "      self.a += 1\n",
    "      return x\n",
    "    else:\n",
    "      raise StopIteration\n",
    "\n",
    "myclass = MyNumbers()\n",
    "myiter = iter(myclass)\n",
    "\n",
    "for x in myiter:\n",
    "  print(x)"
   ]
  },
  {
   "cell_type": "markdown",
   "metadata": {},
   "source": [
    "## Module\n",
    "A file containing a set of functions you want to include in your application.\n",
    "\n",
    "Save this code in a file named` mymodule.py`"
   ]
  },
  {
   "cell_type": "code",
   "execution_count": null,
   "metadata": {},
   "outputs": [],
   "source": [
    "def greeting(name):\n",
    "  print(\"Hello, \" + name)\n",
    "\n",
    "person1 = {\n",
    "  \"name\": \"John\",\n",
    "  \"age\": 36,\n",
    "  \"country\": \"Norway\"\n",
    "}"
   ]
  },
  {
   "cell_type": "markdown",
   "metadata": {},
   "source": [
    "Use the module we just created, by using the `import` statement:"
   ]
  },
  {
   "cell_type": "code",
   "execution_count": null,
   "metadata": {},
   "outputs": [],
   "source": [
    "import mymodule\n",
    "\n",
    "mymodule.greeting(\"Jonathan\")\n",
    "\n",
    "a = mymodule.person1[\"age\"]"
   ]
  },
  {
   "cell_type": "markdown",
   "metadata": {},
   "source": [
    "### `dir()` Function\n",
    "There is a built-in function to list all the function names (or variable names) in a module. The `dir()` function:"
   ]
  },
  {
   "cell_type": "code",
   "execution_count": null,
   "metadata": {},
   "outputs": [],
   "source": [
    "import platform\n",
    "\n",
    "x = dir(platform)\n",
    "print(x)"
   ]
  },
  {
   "cell_type": "markdown",
   "metadata": {},
   "source": [
    "### import from\n",
    "\n",
    "You can choose to import only parts from a module, by using the <font color=red>from</font> keyword."
   ]
  },
  {
   "cell_type": "code",
   "execution_count": null,
   "metadata": {},
   "outputs": [],
   "source": [
    "from mymodule import person1\n",
    "\n",
    "print (person1[\"age\"])"
   ]
  },
  {
   "cell_type": "markdown",
   "metadata": {},
   "source": [
    "## Dates"
   ]
  },
  {
   "cell_type": "code",
   "execution_count": null,
   "metadata": {},
   "outputs": [],
   "source": [
    "import datetime\n",
    "\n",
    "x = datetime.datetime.now()\n",
    "print(x)\n",
    "print(x.year)\n",
    "print(x.strftime(\"%A\"))"
   ]
  },
  {
   "cell_type": "markdown",
   "metadata": {},
   "source": [
    "To create a date, we can use the `datetime()` class (constructor) of the `datetime` module.\n",
    "\n",
    "The `datetime()` class requires three parameters to create a date: year, month, day."
   ]
  },
  {
   "cell_type": "code",
   "execution_count": null,
   "metadata": {},
   "outputs": [],
   "source": [
    "import datetime\n",
    "\n",
    "x = datetime.datetime(2020, 5, 17)\n",
    "\n",
    "print(x)"
   ]
  },
  {
   "cell_type": "markdown",
   "metadata": {},
   "source": [
    "### The `strftime()` Method\n",
    "The `datetime` object has a method for formatting date objects into readable strings.\n",
    "\n",
    "The method is called `strftime()`, and takes one parameter, <font color=red>format</font>, to specify the format of the returned string:"
   ]
  },
  {
   "cell_type": "markdown",
   "metadata": {},
   "source": [
    "## JSON\n",
    "\n",
    "JSON is a syntax for storing and exchanging data.\n",
    "\n",
    "JSON is text, written with JavaScript object notation.\n",
    "\n",
    "Python has a built-in package called `json`, which can be used to work with JSON data.\n",
    "\n",
    "If you have a JSON string, you can parse it by using the `json.loads()` method."
   ]
  },
  {
   "cell_type": "code",
   "execution_count": null,
   "metadata": {},
   "outputs": [],
   "source": [
    "import json\n",
    "\n",
    "# some JSON:\n",
    "x =  '{ \"name\":\"John\", \"age\":30, \"city\":\"New York\"}'\n",
    "\n",
    "# parse x:\n",
    "y = json.loads(x)\n",
    "\n",
    "# the result is a Python dictionary:\n",
    "print(y[\"age\"])"
   ]
  },
  {
   "cell_type": "markdown",
   "metadata": {},
   "source": [
    "Convert Python object into a JSON string by using the `json.dumps()` method:"
   ]
  },
  {
   "cell_type": "code",
   "execution_count": null,
   "metadata": {},
   "outputs": [],
   "source": [
    "import json\n",
    "\n",
    "# a Python object (dict):\n",
    "x = {\n",
    "  \"name\": \"John\",\n",
    "  \"age\": 30,\n",
    "  \"city\": \"New York\"\n",
    "}\n",
    "\n",
    "# convert into JSON:\n",
    "y = json.dumps(x)\n",
    "\n",
    "# the result is a JSON string:\n",
    "print(y)"
   ]
  },
  {
   "cell_type": "markdown",
   "metadata": {},
   "source": [
    "## `re` - Regular expression operations\n",
    "\n",
    "## `try...except`\n",
    "\n"
   ]
  },
  {
   "cell_type": "code",
   "execution_count": null,
   "metadata": {},
   "outputs": [],
   "source": [
    "try:\n",
    "  f = open(\"demofile.txt\")\n",
    "  f.write(\"Lorum Ipsum\")\n",
    "  f.close()\n",
    "except:\n",
    "  print(\"Something went wrong when writing to the file\")\n",
    "else:\n",
    "  print(\"Nothing went wrong\")\n",
    "finally:\n",
    "  print('\"finally\" is always excuted.')"
   ]
  },
  {
   "cell_type": "code",
   "execution_count": null,
   "metadata": {},
   "outputs": [],
   "source": [
    "x = \"hello\"\n",
    "\n",
    "if not type(x) is int:\n",
    "  raise TypeError(\"Only integers are allowed\")\n",
    "\n",
    "if x < 0:\n",
    "  raise Exception(\"Sorry, no numbers below zero\")"
   ]
  },
  {
   "cell_type": "markdown",
   "metadata": {},
   "source": [
    "## `input()`"
   ]
  },
  {
   "cell_type": "code",
   "execution_count": null,
   "metadata": {},
   "outputs": [],
   "source": [
    "username = input(\"Enter username:\")\n",
    "print(\"Username is: \" + username)"
   ]
  },
  {
   "cell_type": "markdown",
   "metadata": {},
   "source": [
    "## String Formatting\n",
    "To make sure a string will display as expected, we can format the result with the `format()` method."
   ]
  },
  {
   "cell_type": "code",
   "execution_count": null,
   "metadata": {},
   "outputs": [],
   "source": [
    "quantity = 3\n",
    "itemno = 567\n",
    "price = 49\n",
    "myorder = \"I want {0} pieces of item number {1} for {2:.2f} dollars.\"\n",
    "print(myorder.format(quantity, itemno, price))"
   ]
  },
  {
   "cell_type": "markdown",
   "metadata": {},
   "source": [
    "## File Handling\n"
   ]
  },
  {
   "cell_type": "code",
   "execution_count": null,
   "metadata": {},
   "outputs": [],
   "source": [
    "f = open(\"demofile.txt\", \"w\")\n",
    "f.write(\"Woops! I have deleted the content!\")\n",
    "f.close()\n",
    "\n",
    "\n",
    "f = open(\"demofile.txt\", \"r\")\n",
    "\n",
    "f.read() # read the whole content\n",
    "\n",
    "f.readline() # one line\n",
    "\n",
    "# loop throught line by line\n",
    "for x in f:\n",
    "  print(x)\n",
    "\n",
    "f.close()"
   ]
  },
  {
   "cell_type": "code",
   "execution_count": null,
   "metadata": {},
   "outputs": [],
   "source": [
    "# Check if file exists, then delete it:\n",
    "\n",
    "import os\n",
    "if os.path.exists(\"demofile.txt\"):\n",
    "  os.remove(\"demofile.txt\")\n",
    "else:\n",
    "  print(\"The file does not exist\")"
   ]
  },
  {
   "cell_type": "code",
   "execution_count": null,
   "metadata": {},
   "outputs": [],
   "source": [
    "# Remove the folder:\n",
    "\n",
    "import os\n",
    "os.rmdir(\"myfolder\")"
   ]
  }
 ],
 "metadata": {
  "kernelspec": {
   "display_name": "Python 3",
   "language": "python",
   "name": "python3"
  },
  "language_info": {
   "codemirror_mode": {
    "name": "ipython",
    "version": 3
   },
   "file_extension": ".py",
   "mimetype": "text/x-python",
   "name": "python",
   "nbconvert_exporter": "python",
   "pygments_lexer": "ipython3",
   "version": "3.7.3"
  }
 },
 "nbformat": 4,
 "nbformat_minor": 2
}
